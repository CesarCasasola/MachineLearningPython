{
 "cells": [
  {
   "cell_type": "markdown",
   "id": "8c18d272",
   "metadata": {},
   "source": [
    "# DECISION TREE BILLBOARD TOP\n"
   ]
  },
  {
   "cell_type": "markdown",
   "id": "6fbc84e7",
   "metadata": {},
   "source": [
    "Fuente: https://www.aprendemachinelearning.com/arbol-de-decision-en-python-clasificacion-y-prediccion/"
   ]
  },
  {
   "cell_type": "markdown",
   "id": "3b1dde92",
   "metadata": {},
   "source": [
    "Ganancia de información\n",
    "\n",
    "    Se utiliza en variables categóricas. Intenta estimar la información que aporta cada atributo.\n",
    "    La aleatoriedad de incertidumbre de cada atributo se denomina entropía.\n",
    "    Al medir la entropía de cada atributo, se puede calcular la ganancia de información del arbol. \n",
    "    Se busca maximizar la ganancia de información."
   ]
  },
  {
   "cell_type": "markdown",
   "id": "b00c1928",
   "metadata": {},
   "source": [
    "Se trabajará una base de datos con atributos relacionados a las canciones que lograron alcanzar el top 1 en Billboard."
   ]
  },
  {
   "cell_type": "markdown",
   "id": "1e15d91c",
   "metadata": {},
   "source": [
    "Importar librerías para analizar y limpiar los datos."
   ]
  },
  {
   "cell_type": "code",
   "execution_count": 1,
   "id": "71a6e0ac",
   "metadata": {},
   "outputs": [
    {
     "name": "stderr",
     "output_type": "stream",
     "text": [
      "Matplotlib is building the font cache; this may take a moment.\n"
     ]
    }
   ],
   "source": [
    "import numpy as np\n",
    "import pandas as pd\n",
    "import seaborn as sb\n",
    "import matplotlib.pyplot as plt\n",
    "%matplotlib inline"
   ]
  },
  {
   "cell_type": "markdown",
   "id": "cbc66049",
   "metadata": {},
   "source": [
    "Cargar los datos del csv "
   ]
  },
  {
   "cell_type": "code",
   "execution_count": 4,
   "id": "2d58d29f",
   "metadata": {},
   "outputs": [],
   "source": [
    "artistas_billboard = pd.read_csv('artists_billboard_fix3.csv')"
   ]
  },
  {
   "cell_type": "markdown",
   "id": "26e57952",
   "metadata": {},
   "source": [
    "Explorar el dataset"
   ]
  },
  {
   "cell_type": "code",
   "execution_count": 11,
   "id": "eba3a2a9",
   "metadata": {},
   "outputs": [
    {
     "name": "stdout",
     "output_type": "stream",
     "text": [
      "(635, 11)\n"
     ]
    },
    {
     "data": {
      "text/html": [
       "<div>\n",
       "<style scoped>\n",
       "    .dataframe tbody tr th:only-of-type {\n",
       "        vertical-align: middle;\n",
       "    }\n",
       "\n",
       "    .dataframe tbody tr th {\n",
       "        vertical-align: top;\n",
       "    }\n",
       "\n",
       "    .dataframe thead th {\n",
       "        text-align: right;\n",
       "    }\n",
       "</style>\n",
       "<table border=\"1\" class=\"dataframe\">\n",
       "  <thead>\n",
       "    <tr style=\"text-align: right;\">\n",
       "      <th></th>\n",
       "      <th>id</th>\n",
       "      <th>title</th>\n",
       "      <th>artist</th>\n",
       "      <th>mood</th>\n",
       "      <th>tempo</th>\n",
       "      <th>genre</th>\n",
       "      <th>artist_type</th>\n",
       "      <th>chart_date</th>\n",
       "      <th>durationSeg</th>\n",
       "      <th>top</th>\n",
       "      <th>anioNacimiento</th>\n",
       "    </tr>\n",
       "  </thead>\n",
       "  <tbody>\n",
       "    <tr>\n",
       "      <th>0</th>\n",
       "      <td>0</td>\n",
       "      <td>Small Town Throwdown</td>\n",
       "      <td>BRANTLEY GILBERT featuring JUSTIN MOORE &amp; THOM...</td>\n",
       "      <td>Brooding</td>\n",
       "      <td>Medium Tempo</td>\n",
       "      <td>Traditional</td>\n",
       "      <td>Male</td>\n",
       "      <td>20140628</td>\n",
       "      <td>191.0</td>\n",
       "      <td>0</td>\n",
       "      <td>1975.0</td>\n",
       "    </tr>\n",
       "    <tr>\n",
       "      <th>1</th>\n",
       "      <td>1</td>\n",
       "      <td>Bang Bang</td>\n",
       "      <td>JESSIE J, ARIANA GRANDE &amp; NICKI MINAJ</td>\n",
       "      <td>Energizing</td>\n",
       "      <td>Medium Tempo</td>\n",
       "      <td>Pop</td>\n",
       "      <td>Female</td>\n",
       "      <td>20140816</td>\n",
       "      <td>368.0</td>\n",
       "      <td>0</td>\n",
       "      <td>1989.0</td>\n",
       "    </tr>\n",
       "    <tr>\n",
       "      <th>2</th>\n",
       "      <td>2</td>\n",
       "      <td>Timber</td>\n",
       "      <td>PITBULL featuring KE$HA</td>\n",
       "      <td>Excited</td>\n",
       "      <td>Medium Tempo</td>\n",
       "      <td>Urban</td>\n",
       "      <td>Mixed</td>\n",
       "      <td>20140118</td>\n",
       "      <td>223.0</td>\n",
       "      <td>1</td>\n",
       "      <td>1993.0</td>\n",
       "    </tr>\n",
       "    <tr>\n",
       "      <th>3</th>\n",
       "      <td>3</td>\n",
       "      <td>Sweater Weather</td>\n",
       "      <td>THE NEIGHBOURHOOD</td>\n",
       "      <td>Brooding</td>\n",
       "      <td>Medium Tempo</td>\n",
       "      <td>Alternative &amp; Punk</td>\n",
       "      <td>Male</td>\n",
       "      <td>20140104</td>\n",
       "      <td>206.0</td>\n",
       "      <td>0</td>\n",
       "      <td>1989.0</td>\n",
       "    </tr>\n",
       "    <tr>\n",
       "      <th>4</th>\n",
       "      <td>4</td>\n",
       "      <td>Automatic</td>\n",
       "      <td>MIRANDA LAMBERT</td>\n",
       "      <td>Yearning</td>\n",
       "      <td>Medium Tempo</td>\n",
       "      <td>Traditional</td>\n",
       "      <td>Female</td>\n",
       "      <td>20140301</td>\n",
       "      <td>232.0</td>\n",
       "      <td>0</td>\n",
       "      <td>0.0</td>\n",
       "    </tr>\n",
       "  </tbody>\n",
       "</table>\n",
       "</div>"
      ],
      "text/plain": [
       "   id                 title  \\\n",
       "0   0  Small Town Throwdown   \n",
       "1   1             Bang Bang   \n",
       "2   2                Timber   \n",
       "3   3       Sweater Weather   \n",
       "4   4             Automatic   \n",
       "\n",
       "                                              artist        mood  \\\n",
       "0  BRANTLEY GILBERT featuring JUSTIN MOORE & THOM...    Brooding   \n",
       "1              JESSIE J, ARIANA GRANDE & NICKI MINAJ  Energizing   \n",
       "2                            PITBULL featuring KE$HA     Excited   \n",
       "3                                  THE NEIGHBOURHOOD    Brooding   \n",
       "4                                    MIRANDA LAMBERT    Yearning   \n",
       "\n",
       "          tempo               genre artist_type  chart_date  durationSeg  top  \\\n",
       "0  Medium Tempo         Traditional        Male    20140628        191.0    0   \n",
       "1  Medium Tempo                 Pop      Female    20140816        368.0    0   \n",
       "2  Medium Tempo               Urban       Mixed    20140118        223.0    1   \n",
       "3  Medium Tempo  Alternative & Punk        Male    20140104        206.0    0   \n",
       "4  Medium Tempo         Traditional      Female    20140301        232.0    0   \n",
       "\n",
       "   anioNacimiento  \n",
       "0          1975.0  \n",
       "1          1989.0  \n",
       "2          1993.0  \n",
       "3          1989.0  \n",
       "4             0.0  "
      ]
     },
     "execution_count": 11,
     "metadata": {},
     "output_type": "execute_result"
    }
   ],
   "source": [
    "print(artistas_billboard.shape)\n",
    "artistas_billboard.head()"
   ]
  },
  {
   "cell_type": "markdown",
   "id": "66fe251b",
   "metadata": {},
   "source": [
    "Analizar la variable dependiente: top"
   ]
  },
  {
   "cell_type": "code",
   "execution_count": 14,
   "id": "1eb8efa9",
   "metadata": {},
   "outputs": [
    {
     "data": {
      "text/plain": [
       "top\n",
       "0    494\n",
       "1    141\n",
       "dtype: int64"
      ]
     },
     "execution_count": 14,
     "metadata": {},
     "output_type": "execute_result"
    }
   ],
   "source": [
    "artistas_billboard.groupby('top').size()"
   ]
  },
  {
   "cell_type": "code",
   "execution_count": null,
   "id": "0304cc5d",
   "metadata": {},
   "outputs": [],
   "source": []
  }
 ],
 "metadata": {
  "kernelspec": {
   "display_name": "Python 3 (ipykernel)",
   "language": "python",
   "name": "python3"
  },
  "language_info": {
   "codemirror_mode": {
    "name": "ipython",
    "version": 3
   },
   "file_extension": ".py",
   "mimetype": "text/x-python",
   "name": "python",
   "nbconvert_exporter": "python",
   "pygments_lexer": "ipython3",
   "version": "3.9.7"
  }
 },
 "nbformat": 4,
 "nbformat_minor": 5
}
