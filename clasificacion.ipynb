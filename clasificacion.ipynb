{
  "nbformat": 4,
  "nbformat_minor": 0,
  "metadata": {
    "colab": {
      "name": "clasificacion.ipynb",
      "provenance": [],
      "collapsed_sections": [],
      "authorship_tag": "ABX9TyM2JPWwTaoLmY4eV7Jg7xVx",
      "include_colab_link": true
    },
    "kernelspec": {
      "name": "python3",
      "display_name": "Python 3"
    },
    "language_info": {
      "name": "python"
    }
  },
  "cells": [
    {
      "cell_type": "markdown",
      "metadata": {
        "id": "view-in-github",
        "colab_type": "text"
      },
      "source": [
        "<a href=\"https://colab.research.google.com/github/CesarCasasola/MachineLearningPython/blob/main/clasificacion.ipynb\" target=\"_parent\"><img src=\"https://colab.research.google.com/assets/colab-badge.svg\" alt=\"Open In Colab\"/></a>"
      ]
    },
    {
      "cell_type": "markdown",
      "source": [
        "# Calidad del vino blanco"
      ],
      "metadata": {
        "id": "ymj5S86c0o6G"
      }
    },
    {
      "cell_type": "code",
      "execution_count": null,
      "metadata": {
        "colab": {
          "base_uri": "https://localhost:8080/"
        },
        "id": "Xsa-xFmxz0a1",
        "outputId": "8306f701-fe69-43d7-e350-cff5be29565c"
      },
      "outputs": [
        {
          "output_type": "stream",
          "name": "stdout",
          "text": [
            "2.7.0\n"
          ]
        }
      ],
      "source": [
        "import numpy as np\n",
        "import pandas as pd\n",
        "import matplotlib.pyplot as plt\n",
        "plt.style.use('ggplot')\n",
        "\n",
        "#configurando la impresion de numeros de punto flotante a aun max de 3 digitos despues del punto\n",
        "np.set_printoptions(precision=3, suppress=True)\n",
        "\n",
        "import tensorflow as tf\n",
        "from tensorflow import keras\n",
        "from tensorflow.keras import layers\n",
        "\n",
        "print(tf.__version__)"
      ]
    },
    {
      "cell_type": "code",
      "source": [
        "original_data_set = pd.read_csv('https://archive.ics.uci.edu/ml/machine-learning-databases/wine-quality/winequality-white.csv', sep=';')\n",
        "original_data_set.info()\n",
        "original_data_set.head()"
      ],
      "metadata": {
        "colab": {
          "base_uri": "https://localhost:8080/",
          "height": 619
        },
        "id": "40iJvJQZ9eSU",
        "outputId": "3969db78-4825-492b-85a6-e43555be7142"
      },
      "execution_count": null,
      "outputs": [
        {
          "output_type": "stream",
          "name": "stdout",
          "text": [
            "<class 'pandas.core.frame.DataFrame'>\n",
            "RangeIndex: 4898 entries, 0 to 4897\n",
            "Data columns (total 12 columns):\n",
            " #   Column                Non-Null Count  Dtype  \n",
            "---  ------                --------------  -----  \n",
            " 0   fixed acidity         4898 non-null   float64\n",
            " 1   volatile acidity      4898 non-null   float64\n",
            " 2   citric acid           4898 non-null   float64\n",
            " 3   residual sugar        4898 non-null   float64\n",
            " 4   chlorides             4898 non-null   float64\n",
            " 5   free sulfur dioxide   4898 non-null   float64\n",
            " 6   total sulfur dioxide  4898 non-null   float64\n",
            " 7   density               4898 non-null   float64\n",
            " 8   pH                    4898 non-null   float64\n",
            " 9   sulphates             4898 non-null   float64\n",
            " 10  alcohol               4898 non-null   float64\n",
            " 11  quality               4898 non-null   int64  \n",
            "dtypes: float64(11), int64(1)\n",
            "memory usage: 459.3 KB\n"
          ]
        },
        {
          "output_type": "execute_result",
          "data": {
            "text/html": [
              "\n",
              "  <div id=\"df-1d60d8e1-a75a-4cc2-8634-a23d0ea471a5\">\n",
              "    <div class=\"colab-df-container\">\n",
              "      <div>\n",
              "<style scoped>\n",
              "    .dataframe tbody tr th:only-of-type {\n",
              "        vertical-align: middle;\n",
              "    }\n",
              "\n",
              "    .dataframe tbody tr th {\n",
              "        vertical-align: top;\n",
              "    }\n",
              "\n",
              "    .dataframe thead th {\n",
              "        text-align: right;\n",
              "    }\n",
              "</style>\n",
              "<table border=\"1\" class=\"dataframe\">\n",
              "  <thead>\n",
              "    <tr style=\"text-align: right;\">\n",
              "      <th></th>\n",
              "      <th>fixed acidity</th>\n",
              "      <th>volatile acidity</th>\n",
              "      <th>citric acid</th>\n",
              "      <th>residual sugar</th>\n",
              "      <th>chlorides</th>\n",
              "      <th>free sulfur dioxide</th>\n",
              "      <th>total sulfur dioxide</th>\n",
              "      <th>density</th>\n",
              "      <th>pH</th>\n",
              "      <th>sulphates</th>\n",
              "      <th>alcohol</th>\n",
              "      <th>quality</th>\n",
              "    </tr>\n",
              "  </thead>\n",
              "  <tbody>\n",
              "    <tr>\n",
              "      <th>0</th>\n",
              "      <td>7.0</td>\n",
              "      <td>0.27</td>\n",
              "      <td>0.36</td>\n",
              "      <td>20.7</td>\n",
              "      <td>0.045</td>\n",
              "      <td>45.0</td>\n",
              "      <td>170.0</td>\n",
              "      <td>1.0010</td>\n",
              "      <td>3.00</td>\n",
              "      <td>0.45</td>\n",
              "      <td>8.8</td>\n",
              "      <td>6</td>\n",
              "    </tr>\n",
              "    <tr>\n",
              "      <th>1</th>\n",
              "      <td>6.3</td>\n",
              "      <td>0.30</td>\n",
              "      <td>0.34</td>\n",
              "      <td>1.6</td>\n",
              "      <td>0.049</td>\n",
              "      <td>14.0</td>\n",
              "      <td>132.0</td>\n",
              "      <td>0.9940</td>\n",
              "      <td>3.30</td>\n",
              "      <td>0.49</td>\n",
              "      <td>9.5</td>\n",
              "      <td>6</td>\n",
              "    </tr>\n",
              "    <tr>\n",
              "      <th>2</th>\n",
              "      <td>8.1</td>\n",
              "      <td>0.28</td>\n",
              "      <td>0.40</td>\n",
              "      <td>6.9</td>\n",
              "      <td>0.050</td>\n",
              "      <td>30.0</td>\n",
              "      <td>97.0</td>\n",
              "      <td>0.9951</td>\n",
              "      <td>3.26</td>\n",
              "      <td>0.44</td>\n",
              "      <td>10.1</td>\n",
              "      <td>6</td>\n",
              "    </tr>\n",
              "    <tr>\n",
              "      <th>3</th>\n",
              "      <td>7.2</td>\n",
              "      <td>0.23</td>\n",
              "      <td>0.32</td>\n",
              "      <td>8.5</td>\n",
              "      <td>0.058</td>\n",
              "      <td>47.0</td>\n",
              "      <td>186.0</td>\n",
              "      <td>0.9956</td>\n",
              "      <td>3.19</td>\n",
              "      <td>0.40</td>\n",
              "      <td>9.9</td>\n",
              "      <td>6</td>\n",
              "    </tr>\n",
              "    <tr>\n",
              "      <th>4</th>\n",
              "      <td>7.2</td>\n",
              "      <td>0.23</td>\n",
              "      <td>0.32</td>\n",
              "      <td>8.5</td>\n",
              "      <td>0.058</td>\n",
              "      <td>47.0</td>\n",
              "      <td>186.0</td>\n",
              "      <td>0.9956</td>\n",
              "      <td>3.19</td>\n",
              "      <td>0.40</td>\n",
              "      <td>9.9</td>\n",
              "      <td>6</td>\n",
              "    </tr>\n",
              "  </tbody>\n",
              "</table>\n",
              "</div>\n",
              "      <button class=\"colab-df-convert\" onclick=\"convertToInteractive('df-1d60d8e1-a75a-4cc2-8634-a23d0ea471a5')\"\n",
              "              title=\"Convert this dataframe to an interactive table.\"\n",
              "              style=\"display:none;\">\n",
              "        \n",
              "  <svg xmlns=\"http://www.w3.org/2000/svg\" height=\"24px\"viewBox=\"0 0 24 24\"\n",
              "       width=\"24px\">\n",
              "    <path d=\"M0 0h24v24H0V0z\" fill=\"none\"/>\n",
              "    <path d=\"M18.56 5.44l.94 2.06.94-2.06 2.06-.94-2.06-.94-.94-2.06-.94 2.06-2.06.94zm-11 1L8.5 8.5l.94-2.06 2.06-.94-2.06-.94L8.5 2.5l-.94 2.06-2.06.94zm10 10l.94 2.06.94-2.06 2.06-.94-2.06-.94-.94-2.06-.94 2.06-2.06.94z\"/><path d=\"M17.41 7.96l-1.37-1.37c-.4-.4-.92-.59-1.43-.59-.52 0-1.04.2-1.43.59L10.3 9.45l-7.72 7.72c-.78.78-.78 2.05 0 2.83L4 21.41c.39.39.9.59 1.41.59.51 0 1.02-.2 1.41-.59l7.78-7.78 2.81-2.81c.8-.78.8-2.07 0-2.86zM5.41 20L4 18.59l7.72-7.72 1.47 1.35L5.41 20z\"/>\n",
              "  </svg>\n",
              "      </button>\n",
              "      \n",
              "  <style>\n",
              "    .colab-df-container {\n",
              "      display:flex;\n",
              "      flex-wrap:wrap;\n",
              "      gap: 12px;\n",
              "    }\n",
              "\n",
              "    .colab-df-convert {\n",
              "      background-color: #E8F0FE;\n",
              "      border: none;\n",
              "      border-radius: 50%;\n",
              "      cursor: pointer;\n",
              "      display: none;\n",
              "      fill: #1967D2;\n",
              "      height: 32px;\n",
              "      padding: 0 0 0 0;\n",
              "      width: 32px;\n",
              "    }\n",
              "\n",
              "    .colab-df-convert:hover {\n",
              "      background-color: #E2EBFA;\n",
              "      box-shadow: 0px 1px 2px rgba(60, 64, 67, 0.3), 0px 1px 3px 1px rgba(60, 64, 67, 0.15);\n",
              "      fill: #174EA6;\n",
              "    }\n",
              "\n",
              "    [theme=dark] .colab-df-convert {\n",
              "      background-color: #3B4455;\n",
              "      fill: #D2E3FC;\n",
              "    }\n",
              "\n",
              "    [theme=dark] .colab-df-convert:hover {\n",
              "      background-color: #434B5C;\n",
              "      box-shadow: 0px 1px 3px 1px rgba(0, 0, 0, 0.15);\n",
              "      filter: drop-shadow(0px 1px 2px rgba(0, 0, 0, 0.3));\n",
              "      fill: #FFFFFF;\n",
              "    }\n",
              "  </style>\n",
              "\n",
              "      <script>\n",
              "        const buttonEl =\n",
              "          document.querySelector('#df-1d60d8e1-a75a-4cc2-8634-a23d0ea471a5 button.colab-df-convert');\n",
              "        buttonEl.style.display =\n",
              "          google.colab.kernel.accessAllowed ? 'block' : 'none';\n",
              "\n",
              "        async function convertToInteractive(key) {\n",
              "          const element = document.querySelector('#df-1d60d8e1-a75a-4cc2-8634-a23d0ea471a5');\n",
              "          const dataTable =\n",
              "            await google.colab.kernel.invokeFunction('convertToInteractive',\n",
              "                                                     [key], {});\n",
              "          if (!dataTable) return;\n",
              "\n",
              "          const docLinkHtml = 'Like what you see? Visit the ' +\n",
              "            '<a target=\"_blank\" href=https://colab.research.google.com/notebooks/data_table.ipynb>data table notebook</a>'\n",
              "            + ' to learn more about interactive tables.';\n",
              "          element.innerHTML = '';\n",
              "          dataTable['output_type'] = 'display_data';\n",
              "          await google.colab.output.renderOutput(dataTable, element);\n",
              "          const docLink = document.createElement('div');\n",
              "          docLink.innerHTML = docLinkHtml;\n",
              "          element.appendChild(docLink);\n",
              "        }\n",
              "      </script>\n",
              "    </div>\n",
              "  </div>\n",
              "  "
            ],
            "text/plain": [
              "   fixed acidity  volatile acidity  citric acid  ...  sulphates  alcohol  quality\n",
              "0            7.0              0.27         0.36  ...       0.45      8.8        6\n",
              "1            6.3              0.30         0.34  ...       0.49      9.5        6\n",
              "2            8.1              0.28         0.40  ...       0.44     10.1        6\n",
              "3            7.2              0.23         0.32  ...       0.40      9.9        6\n",
              "4            7.2              0.23         0.32  ...       0.40      9.9        6\n",
              "\n",
              "[5 rows x 12 columns]"
            ]
          },
          "metadata": {},
          "execution_count": 3
        }
      ]
    },
    {
      "cell_type": "markdown",
      "source": [
        "## Limpieza de los datos"
      ],
      "metadata": {
        "id": "e6LT_vUB94pv"
      }
    },
    {
      "cell_type": "code",
      "source": [
        "#Todos los atributos son numéricos del tipo float64, por lo que no será necesario aplicar codificación\n",
        "#La clase es del tipo int64, sin embargo es un dato categórico del tipo ordinal\n",
        "#Verificando missing values\n",
        "original_data_set.isna().sum()"
      ],
      "metadata": {
        "colab": {
          "base_uri": "https://localhost:8080/"
        },
        "id": "M4pDxuUL97Js",
        "outputId": "e334498c-f127-4aa5-b34e-e5022dc1c644"
      },
      "execution_count": null,
      "outputs": [
        {
          "output_type": "execute_result",
          "data": {
            "text/plain": [
              "fixed acidity           0\n",
              "volatile acidity        0\n",
              "citric acid             0\n",
              "residual sugar          0\n",
              "chlorides               0\n",
              "free sulfur dioxide     0\n",
              "total sulfur dioxide    0\n",
              "density                 0\n",
              "pH                      0\n",
              "sulphates               0\n",
              "alcohol                 0\n",
              "quality                 0\n",
              "dtype: int64"
            ]
          },
          "metadata": {},
          "execution_count": 4
        }
      ]
    },
    {
      "cell_type": "code",
      "source": [
        "original_data_set.describe().T"
      ],
      "metadata": {
        "colab": {
          "base_uri": "https://localhost:8080/",
          "height": 426
        },
        "id": "KO74YYLl-qgA",
        "outputId": "d1c7b216-0861-4fe5-d86c-7b7a6a6d6c94"
      },
      "execution_count": null,
      "outputs": [
        {
          "output_type": "execute_result",
          "data": {
            "text/html": [
              "\n",
              "  <div id=\"df-7c06bd12-0bc1-43a9-b2b3-7639586153a6\">\n",
              "    <div class=\"colab-df-container\">\n",
              "      <div>\n",
              "<style scoped>\n",
              "    .dataframe tbody tr th:only-of-type {\n",
              "        vertical-align: middle;\n",
              "    }\n",
              "\n",
              "    .dataframe tbody tr th {\n",
              "        vertical-align: top;\n",
              "    }\n",
              "\n",
              "    .dataframe thead th {\n",
              "        text-align: right;\n",
              "    }\n",
              "</style>\n",
              "<table border=\"1\" class=\"dataframe\">\n",
              "  <thead>\n",
              "    <tr style=\"text-align: right;\">\n",
              "      <th></th>\n",
              "      <th>count</th>\n",
              "      <th>mean</th>\n",
              "      <th>std</th>\n",
              "      <th>min</th>\n",
              "      <th>25%</th>\n",
              "      <th>50%</th>\n",
              "      <th>75%</th>\n",
              "      <th>max</th>\n",
              "    </tr>\n",
              "  </thead>\n",
              "  <tbody>\n",
              "    <tr>\n",
              "      <th>fixed acidity</th>\n",
              "      <td>4898.0</td>\n",
              "      <td>6.854788</td>\n",
              "      <td>0.843868</td>\n",
              "      <td>3.80000</td>\n",
              "      <td>6.300000</td>\n",
              "      <td>6.80000</td>\n",
              "      <td>7.3000</td>\n",
              "      <td>14.20000</td>\n",
              "    </tr>\n",
              "    <tr>\n",
              "      <th>volatile acidity</th>\n",
              "      <td>4898.0</td>\n",
              "      <td>0.278241</td>\n",
              "      <td>0.100795</td>\n",
              "      <td>0.08000</td>\n",
              "      <td>0.210000</td>\n",
              "      <td>0.26000</td>\n",
              "      <td>0.3200</td>\n",
              "      <td>1.10000</td>\n",
              "    </tr>\n",
              "    <tr>\n",
              "      <th>citric acid</th>\n",
              "      <td>4898.0</td>\n",
              "      <td>0.334192</td>\n",
              "      <td>0.121020</td>\n",
              "      <td>0.00000</td>\n",
              "      <td>0.270000</td>\n",
              "      <td>0.32000</td>\n",
              "      <td>0.3900</td>\n",
              "      <td>1.66000</td>\n",
              "    </tr>\n",
              "    <tr>\n",
              "      <th>residual sugar</th>\n",
              "      <td>4898.0</td>\n",
              "      <td>6.391415</td>\n",
              "      <td>5.072058</td>\n",
              "      <td>0.60000</td>\n",
              "      <td>1.700000</td>\n",
              "      <td>5.20000</td>\n",
              "      <td>9.9000</td>\n",
              "      <td>65.80000</td>\n",
              "    </tr>\n",
              "    <tr>\n",
              "      <th>chlorides</th>\n",
              "      <td>4898.0</td>\n",
              "      <td>0.045772</td>\n",
              "      <td>0.021848</td>\n",
              "      <td>0.00900</td>\n",
              "      <td>0.036000</td>\n",
              "      <td>0.04300</td>\n",
              "      <td>0.0500</td>\n",
              "      <td>0.34600</td>\n",
              "    </tr>\n",
              "    <tr>\n",
              "      <th>free sulfur dioxide</th>\n",
              "      <td>4898.0</td>\n",
              "      <td>35.308085</td>\n",
              "      <td>17.007137</td>\n",
              "      <td>2.00000</td>\n",
              "      <td>23.000000</td>\n",
              "      <td>34.00000</td>\n",
              "      <td>46.0000</td>\n",
              "      <td>289.00000</td>\n",
              "    </tr>\n",
              "    <tr>\n",
              "      <th>total sulfur dioxide</th>\n",
              "      <td>4898.0</td>\n",
              "      <td>138.360657</td>\n",
              "      <td>42.498065</td>\n",
              "      <td>9.00000</td>\n",
              "      <td>108.000000</td>\n",
              "      <td>134.00000</td>\n",
              "      <td>167.0000</td>\n",
              "      <td>440.00000</td>\n",
              "    </tr>\n",
              "    <tr>\n",
              "      <th>density</th>\n",
              "      <td>4898.0</td>\n",
              "      <td>0.994027</td>\n",
              "      <td>0.002991</td>\n",
              "      <td>0.98711</td>\n",
              "      <td>0.991723</td>\n",
              "      <td>0.99374</td>\n",
              "      <td>0.9961</td>\n",
              "      <td>1.03898</td>\n",
              "    </tr>\n",
              "    <tr>\n",
              "      <th>pH</th>\n",
              "      <td>4898.0</td>\n",
              "      <td>3.188267</td>\n",
              "      <td>0.151001</td>\n",
              "      <td>2.72000</td>\n",
              "      <td>3.090000</td>\n",
              "      <td>3.18000</td>\n",
              "      <td>3.2800</td>\n",
              "      <td>3.82000</td>\n",
              "    </tr>\n",
              "    <tr>\n",
              "      <th>sulphates</th>\n",
              "      <td>4898.0</td>\n",
              "      <td>0.489847</td>\n",
              "      <td>0.114126</td>\n",
              "      <td>0.22000</td>\n",
              "      <td>0.410000</td>\n",
              "      <td>0.47000</td>\n",
              "      <td>0.5500</td>\n",
              "      <td>1.08000</td>\n",
              "    </tr>\n",
              "    <tr>\n",
              "      <th>alcohol</th>\n",
              "      <td>4898.0</td>\n",
              "      <td>10.514267</td>\n",
              "      <td>1.230621</td>\n",
              "      <td>8.00000</td>\n",
              "      <td>9.500000</td>\n",
              "      <td>10.40000</td>\n",
              "      <td>11.4000</td>\n",
              "      <td>14.20000</td>\n",
              "    </tr>\n",
              "    <tr>\n",
              "      <th>quality</th>\n",
              "      <td>4898.0</td>\n",
              "      <td>5.877909</td>\n",
              "      <td>0.885639</td>\n",
              "      <td>3.00000</td>\n",
              "      <td>5.000000</td>\n",
              "      <td>6.00000</td>\n",
              "      <td>6.0000</td>\n",
              "      <td>9.00000</td>\n",
              "    </tr>\n",
              "  </tbody>\n",
              "</table>\n",
              "</div>\n",
              "      <button class=\"colab-df-convert\" onclick=\"convertToInteractive('df-7c06bd12-0bc1-43a9-b2b3-7639586153a6')\"\n",
              "              title=\"Convert this dataframe to an interactive table.\"\n",
              "              style=\"display:none;\">\n",
              "        \n",
              "  <svg xmlns=\"http://www.w3.org/2000/svg\" height=\"24px\"viewBox=\"0 0 24 24\"\n",
              "       width=\"24px\">\n",
              "    <path d=\"M0 0h24v24H0V0z\" fill=\"none\"/>\n",
              "    <path d=\"M18.56 5.44l.94 2.06.94-2.06 2.06-.94-2.06-.94-.94-2.06-.94 2.06-2.06.94zm-11 1L8.5 8.5l.94-2.06 2.06-.94-2.06-.94L8.5 2.5l-.94 2.06-2.06.94zm10 10l.94 2.06.94-2.06 2.06-.94-2.06-.94-.94-2.06-.94 2.06-2.06.94z\"/><path d=\"M17.41 7.96l-1.37-1.37c-.4-.4-.92-.59-1.43-.59-.52 0-1.04.2-1.43.59L10.3 9.45l-7.72 7.72c-.78.78-.78 2.05 0 2.83L4 21.41c.39.39.9.59 1.41.59.51 0 1.02-.2 1.41-.59l7.78-7.78 2.81-2.81c.8-.78.8-2.07 0-2.86zM5.41 20L4 18.59l7.72-7.72 1.47 1.35L5.41 20z\"/>\n",
              "  </svg>\n",
              "      </button>\n",
              "      \n",
              "  <style>\n",
              "    .colab-df-container {\n",
              "      display:flex;\n",
              "      flex-wrap:wrap;\n",
              "      gap: 12px;\n",
              "    }\n",
              "\n",
              "    .colab-df-convert {\n",
              "      background-color: #E8F0FE;\n",
              "      border: none;\n",
              "      border-radius: 50%;\n",
              "      cursor: pointer;\n",
              "      display: none;\n",
              "      fill: #1967D2;\n",
              "      height: 32px;\n",
              "      padding: 0 0 0 0;\n",
              "      width: 32px;\n",
              "    }\n",
              "\n",
              "    .colab-df-convert:hover {\n",
              "      background-color: #E2EBFA;\n",
              "      box-shadow: 0px 1px 2px rgba(60, 64, 67, 0.3), 0px 1px 3px 1px rgba(60, 64, 67, 0.15);\n",
              "      fill: #174EA6;\n",
              "    }\n",
              "\n",
              "    [theme=dark] .colab-df-convert {\n",
              "      background-color: #3B4455;\n",
              "      fill: #D2E3FC;\n",
              "    }\n",
              "\n",
              "    [theme=dark] .colab-df-convert:hover {\n",
              "      background-color: #434B5C;\n",
              "      box-shadow: 0px 1px 3px 1px rgba(0, 0, 0, 0.15);\n",
              "      filter: drop-shadow(0px 1px 2px rgba(0, 0, 0, 0.3));\n",
              "      fill: #FFFFFF;\n",
              "    }\n",
              "  </style>\n",
              "\n",
              "      <script>\n",
              "        const buttonEl =\n",
              "          document.querySelector('#df-7c06bd12-0bc1-43a9-b2b3-7639586153a6 button.colab-df-convert');\n",
              "        buttonEl.style.display =\n",
              "          google.colab.kernel.accessAllowed ? 'block' : 'none';\n",
              "\n",
              "        async function convertToInteractive(key) {\n",
              "          const element = document.querySelector('#df-7c06bd12-0bc1-43a9-b2b3-7639586153a6');\n",
              "          const dataTable =\n",
              "            await google.colab.kernel.invokeFunction('convertToInteractive',\n",
              "                                                     [key], {});\n",
              "          if (!dataTable) return;\n",
              "\n",
              "          const docLinkHtml = 'Like what you see? Visit the ' +\n",
              "            '<a target=\"_blank\" href=https://colab.research.google.com/notebooks/data_table.ipynb>data table notebook</a>'\n",
              "            + ' to learn more about interactive tables.';\n",
              "          element.innerHTML = '';\n",
              "          dataTable['output_type'] = 'display_data';\n",
              "          await google.colab.output.renderOutput(dataTable, element);\n",
              "          const docLink = document.createElement('div');\n",
              "          docLink.innerHTML = docLinkHtml;\n",
              "          element.appendChild(docLink);\n",
              "        }\n",
              "      </script>\n",
              "    </div>\n",
              "  </div>\n",
              "  "
            ],
            "text/plain": [
              "                       count        mean  ...       75%        max\n",
              "fixed acidity         4898.0    6.854788  ...    7.3000   14.20000\n",
              "volatile acidity      4898.0    0.278241  ...    0.3200    1.10000\n",
              "citric acid           4898.0    0.334192  ...    0.3900    1.66000\n",
              "residual sugar        4898.0    6.391415  ...    9.9000   65.80000\n",
              "chlorides             4898.0    0.045772  ...    0.0500    0.34600\n",
              "free sulfur dioxide   4898.0   35.308085  ...   46.0000  289.00000\n",
              "total sulfur dioxide  4898.0  138.360657  ...  167.0000  440.00000\n",
              "density               4898.0    0.994027  ...    0.9961    1.03898\n",
              "pH                    4898.0    3.188267  ...    3.2800    3.82000\n",
              "sulphates             4898.0    0.489847  ...    0.5500    1.08000\n",
              "alcohol               4898.0   10.514267  ...   11.4000   14.20000\n",
              "quality               4898.0    5.877909  ...    6.0000    9.00000\n",
              "\n",
              "[12 rows x 8 columns]"
            ]
          },
          "metadata": {},
          "execution_count": 5
        }
      ]
    },
    {
      "cell_type": "code",
      "source": [
        "np.sort(original_data_set['quality'].unique())"
      ],
      "metadata": {
        "colab": {
          "base_uri": "https://localhost:8080/"
        },
        "id": "PaSlRT0OD_cd",
        "outputId": "23b19f8e-b168-4474-f47e-7786cf7b292b"
      },
      "execution_count": null,
      "outputs": [
        {
          "output_type": "execute_result",
          "data": {
            "text/plain": [
              "array([3, 4, 5, 6, 7, 8, 9])"
            ]
          },
          "metadata": {},
          "execution_count": 6
        }
      ]
    },
    {
      "cell_type": "code",
      "source": [
        "original_data_set['quality'].hist()\n",
        "original_data_set['quality'].value_counts()"
      ],
      "metadata": {
        "colab": {
          "base_uri": "https://localhost:8080/",
          "height": 413
        },
        "id": "fFxhLppuBvym",
        "outputId": "be455fc4-f5ba-4896-9573-fcad31ed0e0c"
      },
      "execution_count": null,
      "outputs": [
        {
          "output_type": "execute_result",
          "data": {
            "text/plain": [
              "6    2198\n",
              "5    1457\n",
              "7     880\n",
              "8     175\n",
              "4     163\n",
              "3      20\n",
              "9       5\n",
              "Name: quality, dtype: int64"
            ]
          },
          "metadata": {},
          "execution_count": 7
        },
        {
          "output_type": "display_data",
          "data": {
            "image/png": "[encoded data removed]",
            "text/plain": [
              "<Figure size 432x288 with 1 Axes>"
            ]
          },
          "metadata": {}
        }
      ]
    },
    {
      "cell_type": "code",
      "source": [
        "#Aunque la clase es del tipo ordinal, ya que así se describe en el archivo NAMES del dataset:\n",
        "#   Output variable (based on sensory data): \n",
        "#   12 - quality (score between 0 and 10)\n",
        "#no tiene instancias para todos los valores de la escala, por lo que se decide reestructurar la clase de la siguiente manera:\n",
        "# Rango    Nombre de la Clase    Valor\n",
        "# 0-4           Mala               0\n",
        "# 5-7           Regular            1 \n",
        "# 8-10          Buena              2\n",
        "df = original_data_set.copy()\n",
        "df['quality'] = [0 if x<=4 else 1 if x>=5 and x<=7 else 2 for x in df['quality']]"
      ],
      "metadata": {
        "id": "rnbGqGimCe7j"
      },
      "execution_count": null,
      "outputs": []
    },
    {
      "cell_type": "code",
      "source": [
        "df['quality'].hist()\n",
        "df['quality'].value_counts()"
      ],
      "metadata": {
        "colab": {
          "base_uri": "https://localhost:8080/",
          "height": 339
        },
        "id": "x4MpfyUCL3OJ",
        "outputId": "c9dbf4a0-75aa-4df0-93ed-a485e9fb113d"
      },
      "execution_count": null,
      "outputs": [
        {
          "output_type": "execute_result",
          "data": {
            "text/plain": [
              "1    4535\n",
              "0     183\n",
              "2     180\n",
              "Name: quality, dtype: int64"
            ]
          },
          "metadata": {},
          "execution_count": 9
        },
        {
          "output_type": "display_data",
          "data": {
            "image/png": "[encoded data removed]",
            "text/plain": [
              "<Figure size 432x288 with 1 Axes>"
            ]
          },
          "metadata": {}
        }
      ]
    },
    {
      "cell_type": "code",
      "source": [
        "df.hist(figsize=(20,15), layout=(3,4))"
      ],
      "metadata": {
        "colab": {
          "base_uri": "https://localhost:8080/",
          "height": 1000
        },
        "id": "PLkRC9lb-uJK",
        "outputId": "1977d2e2-709e-4835-ce7f-a5d97674ffc1"
      },
      "execution_count": null,
      "outputs": [
        {
          "output_type": "execute_result",
          "data": {
            "text/plain": [
              "array([[<matplotlib.axes._subplots.AxesSubplot object at 0x7f06e3e33450>,\n",
              "        <matplotlib.axes._subplots.AxesSubplot object at 0x7f06e3dd1f50>,\n",
              "        <matplotlib.axes._subplots.AxesSubplot object at 0x7f06e3d9e910>,\n",
              "        <matplotlib.axes._subplots.AxesSubplot object at 0x7f06e3d53f10>],\n",
              "       [<matplotlib.axes._subplots.AxesSubplot object at 0x7f06e3d15550>,\n",
              "        <matplotlib.axes._subplots.AxesSubplot object at 0x7f06e3ccdb50>,\n",
              "        <matplotlib.axes._subplots.AxesSubplot object at 0x7f06e3c8f210>,\n",
              "        <matplotlib.axes._subplots.AxesSubplot object at 0x7f06e3cc5750>],\n",
              "       [<matplotlib.axes._subplots.AxesSubplot object at 0x7f06e3cc5790>,\n",
              "        <matplotlib.axes._subplots.AxesSubplot object at 0x7f06e3c7be90>,\n",
              "        <matplotlib.axes._subplots.AxesSubplot object at 0x7f06e3bf49d0>,\n",
              "        <matplotlib.axes._subplots.AxesSubplot object at 0x7f06e3bc0690>]],\n",
              "      dtype=object)"
            ]
          },
          "metadata": {},
          "execution_count": 10
        },
        {
          "output_type": "display_data",
          "data": {
            "image/png": "[encoded data removed]",
            "text/plain": [
              "<Figure size 1440x1080 with 12 Axes>"
            ]
          },
          "metadata": {}
        }
      ]
    },
    {
      "cell_type": "code",
      "source": [
        "#Separando los datos en grupos de entrenamiento y validacion\n",
        "X = df.iloc[:, 0:11]\n",
        "y = df['quality']\n",
        "from sklearn.model_selection import train_test_split\n",
        "X_train, X_test, y_train, y_test = train_test_split(X, y, test_size=0.2, random_state=0, stratify=y)"
      ],
      "metadata": {
        "id": "_Up0-HbwB29_"
      },
      "execution_count": null,
      "outputs": []
    },
    {
      "cell_type": "code",
      "source": [
        "normalizer = tf.keras.layers.Normalization(axis=-1)\n",
        "normalizer.adapt(np.array(X_train))\n",
        "print(normalizer.mean.numpy())"
      ],
      "metadata": {
        "colab": {
          "base_uri": "https://localhost:8080/"
        },
        "id": "NdXEl9BvB_k7",
        "outputId": "d7e9579b-6991-4103-8ca6-c3d9ca3e22e6"
      },
      "execution_count": null,
      "outputs": [
        {
          "output_type": "stream",
          "name": "stdout",
          "text": [
            "[[  6.86    0.279   0.333   6.351   0.046  35.026 137.946   0.994   3.188\n",
            "    0.488  10.524]]\n"
          ]
        }
      ]
    },
    {
      "cell_type": "markdown",
      "source": [
        "## Definiendo un modelo con DNN"
      ],
      "metadata": {
        "id": "sNCXQ58bDhcE"
      }
    },
    {
      "cell_type": "code",
      "source": [
        "\n",
        "dnn_model = keras.Sequential([\n",
        "                 normalizer,\n",
        "                 layers.Dense(64, activation='relu'),\n",
        "                 layers.Dense(64, activation='relu'),\n",
        "                 layers.Dense(5)             \n",
        "])"
      ],
      "metadata": {
        "id": "gwStdnWPDhJX"
      },
      "execution_count": null,
      "outputs": []
    },
    {
      "cell_type": "code",
      "source": [
        "dnn_model.compile(optimizer='adam',\n",
        "              loss=tf.keras.losses.SparseCategoricalCrossentropy(from_logits=True),\n",
        "              metrics=['accuracy'])"
      ],
      "metadata": {
        "id": "DI40n4lNDg9z"
      },
      "execution_count": null,
      "outputs": []
    },
    {
      "cell_type": "code",
      "source": [
        "dnn_model.fit(X_train, y_train, epochs=50)"
      ],
      "metadata": {
        "colab": {
          "base_uri": "https://localhost:8080/"
        },
        "id": "RKms1r04Id4J",
        "outputId": "ce404c6a-eeca-4405-ec87-01ef8de889c2"
      },
      "execution_count": null,
      "outputs": [
        {
          "output_type": "stream",
          "name": "stdout",
          "text": [
            "Epoch 1/50\n",
            "123/123 [==============================] - 1s 2ms/step - loss: 0.4764 - accuracy: 0.9119\n",
            "Epoch 2/50\n",
            "123/123 [==============================] - 0s 2ms/step - loss: 0.3065 - accuracy: 0.9265\n",
            "Epoch 3/50\n",
            "123/123 [==============================] - 0s 2ms/step - loss: 0.2825 - accuracy: 0.9265\n",
            "Epoch 4/50\n",
            "123/123 [==============================] - 0s 2ms/step - loss: 0.2702 - accuracy: 0.9267\n",
            "Epoch 5/50\n",
            "123/123 [==============================] - 0s 2ms/step - loss: 0.2605 - accuracy: 0.9270\n",
            "Epoch 6/50\n",
            "123/123 [==============================] - 0s 2ms/step - loss: 0.2542 - accuracy: 0.9285\n",
            "Epoch 7/50\n",
            "123/123 [==============================] - 0s 2ms/step - loss: 0.2465 - accuracy: 0.9288\n",
            "Epoch 8/50\n",
            "123/123 [==============================] - 0s 2ms/step - loss: 0.2404 - accuracy: 0.9275\n",
            "Epoch 9/50\n",
            "123/123 [==============================] - 0s 2ms/step - loss: 0.2366 - accuracy: 0.9280\n",
            "Epoch 10/50\n",
            "123/123 [==============================] - 0s 2ms/step - loss: 0.2326 - accuracy: 0.9301\n",
            "Epoch 11/50\n",
            "123/123 [==============================] - 0s 2ms/step - loss: 0.2287 - accuracy: 0.9296\n",
            "Epoch 12/50\n",
            "123/123 [==============================] - 0s 2ms/step - loss: 0.2262 - accuracy: 0.9298\n",
            "Epoch 13/50\n",
            "123/123 [==============================] - 0s 2ms/step - loss: 0.2201 - accuracy: 0.9313\n",
            "Epoch 14/50\n",
            "123/123 [==============================] - 0s 2ms/step - loss: 0.2198 - accuracy: 0.9303\n",
            "Epoch 15/50\n",
            "123/123 [==============================] - 0s 2ms/step - loss: 0.2171 - accuracy: 0.9311\n",
            "Epoch 16/50\n",
            "123/123 [==============================] - 0s 2ms/step - loss: 0.2124 - accuracy: 0.9326\n",
            "Epoch 17/50\n",
            "123/123 [==============================] - 0s 2ms/step - loss: 0.2097 - accuracy: 0.9342\n",
            "Epoch 18/50\n",
            "123/123 [==============================] - 0s 2ms/step - loss: 0.2065 - accuracy: 0.9339\n",
            "Epoch 19/50\n",
            "123/123 [==============================] - 0s 2ms/step - loss: 0.2039 - accuracy: 0.9347\n",
            "Epoch 20/50\n",
            "123/123 [==============================] - 0s 2ms/step - loss: 0.2026 - accuracy: 0.9339\n",
            "Epoch 21/50\n",
            "123/123 [==============================] - 0s 2ms/step - loss: 0.1983 - accuracy: 0.9352\n",
            "Epoch 22/50\n",
            "123/123 [==============================] - 0s 2ms/step - loss: 0.1956 - accuracy: 0.9352\n",
            "Epoch 23/50\n",
            "123/123 [==============================] - 0s 2ms/step - loss: 0.1929 - accuracy: 0.9364\n",
            "Epoch 24/50\n",
            "123/123 [==============================] - 0s 2ms/step - loss: 0.1915 - accuracy: 0.9342\n",
            "Epoch 25/50\n",
            "123/123 [==============================] - 0s 2ms/step - loss: 0.1913 - accuracy: 0.9362\n",
            "Epoch 26/50\n",
            "123/123 [==============================] - 0s 2ms/step - loss: 0.1850 - accuracy: 0.9382\n",
            "Epoch 27/50\n",
            "123/123 [==============================] - 0s 2ms/step - loss: 0.1834 - accuracy: 0.9377\n",
            "Epoch 28/50\n",
            "123/123 [==============================] - 0s 2ms/step - loss: 0.1814 - accuracy: 0.9400\n",
            "Epoch 29/50\n",
            "123/123 [==============================] - 0s 2ms/step - loss: 0.1777 - accuracy: 0.9421\n",
            "Epoch 30/50\n",
            "123/123 [==============================] - 0s 2ms/step - loss: 0.1797 - accuracy: 0.9382\n",
            "Epoch 31/50\n",
            "123/123 [==============================] - 0s 2ms/step - loss: 0.1752 - accuracy: 0.9403\n",
            "Epoch 32/50\n",
            "123/123 [==============================] - 0s 2ms/step - loss: 0.1707 - accuracy: 0.9438\n",
            "Epoch 33/50\n",
            "123/123 [==============================] - 0s 2ms/step - loss: 0.1689 - accuracy: 0.9438\n",
            "Epoch 34/50\n",
            "123/123 [==============================] - 0s 2ms/step - loss: 0.1649 - accuracy: 0.9413\n",
            "Epoch 35/50\n",
            "123/123 [==============================] - 0s 2ms/step - loss: 0.1629 - accuracy: 0.9451\n",
            "Epoch 36/50\n",
            "123/123 [==============================] - 0s 2ms/step - loss: 0.1619 - accuracy: 0.9454\n",
            "Epoch 37/50\n",
            "123/123 [==============================] - 0s 2ms/step - loss: 0.1584 - accuracy: 0.9461\n",
            "Epoch 38/50\n",
            "123/123 [==============================] - 0s 2ms/step - loss: 0.1555 - accuracy: 0.9438\n",
            "Epoch 39/50\n",
            "123/123 [==============================] - 0s 2ms/step - loss: 0.1538 - accuracy: 0.9469\n",
            "Epoch 40/50\n",
            "123/123 [==============================] - 0s 2ms/step - loss: 0.1535 - accuracy: 0.9467\n",
            "Epoch 41/50\n",
            "123/123 [==============================] - 0s 2ms/step - loss: 0.1518 - accuracy: 0.9461\n",
            "Epoch 42/50\n",
            "123/123 [==============================] - 0s 2ms/step - loss: 0.1454 - accuracy: 0.9500\n",
            "Epoch 43/50\n",
            "123/123 [==============================] - 0s 2ms/step - loss: 0.1447 - accuracy: 0.9505\n",
            "Epoch 44/50\n",
            "123/123 [==============================] - 0s 2ms/step - loss: 0.1449 - accuracy: 0.9490\n",
            "Epoch 45/50\n",
            "123/123 [==============================] - 0s 2ms/step - loss: 0.1410 - accuracy: 0.9533\n",
            "Epoch 46/50\n",
            "123/123 [==============================] - 0s 2ms/step - loss: 0.1397 - accuracy: 0.9518\n",
            "Epoch 47/50\n",
            "123/123 [==============================] - 0s 2ms/step - loss: 0.1368 - accuracy: 0.9528\n",
            "Epoch 48/50\n",
            "123/123 [==============================] - 0s 2ms/step - loss: 0.1361 - accuracy: 0.9569\n",
            "Epoch 49/50\n",
            "123/123 [==============================] - 0s 2ms/step - loss: 0.1346 - accuracy: 0.9513\n",
            "Epoch 50/50\n",
            "123/123 [==============================] - 0s 2ms/step - loss: 0.1309 - accuracy: 0.9528\n"
          ]
        },
        {
          "output_type": "execute_result",
          "data": {
            "text/plain": [
              "<keras.callbacks.History at 0x7f06dbe65690>"
            ]
          },
          "metadata": {},
          "execution_count": 15
        }
      ]
    },
    {
      "cell_type": "code",
      "source": [
        "test_loss, test_acc = dnn_model.evaluate(X_test, y_test)"
      ],
      "metadata": {
        "colab": {
          "base_uri": "https://localhost:8080/"
        },
        "id": "W1zFonXmJkGO",
        "outputId": "d790032f-0ca6-464f-cc77-1ac7acc3c7c9"
      },
      "execution_count": null,
      "outputs": [
        {
          "output_type": "stream",
          "name": "stdout",
          "text": [
            "31/31 [==============================] - 0s 1ms/step - loss: 0.2811 - accuracy: 0.9296\n"
          ]
        }
      ]
    },
    {
      "cell_type": "markdown",
      "source": [
        "## Definiendo un Modelo Multinominal de Regresion Logistica"
      ],
      "metadata": {
        "id": "heN36qjSUGYs"
      }
    },
    {
      "cell_type": "code",
      "source": [
        "from sklearn.linear_model import LogisticRegression\n",
        "from sklearn.model_selection import cross_val_score\n",
        "from sklearn.model_selection import RepeatedStratifiedKFold\n",
        "\n",
        "model = LogisticRegression(multi_class='multinomial', solver='lbfgs')\n",
        "#definiendo el procedimiento de evaluacion del modelo \n",
        "cv = RepeatedStratifiedKFold(n_splits=10, n_repeats=10, random_state=1)\n",
        "#evaluar el modelo y recolectar las mediciones\n",
        "n_scores = cross_val_score(model, X, y, scoring='accuracy', cv=cv, n_jobs=-1)\n",
        "print('Mean Accuracy: %.3f (%.3f)' % (np.mean(n_scores), np.std(n_scores)))\n",
        "model.fit(X_train, y_train)\n",
        "yhat = model.predict(X_test)\n",
        "# summarize the predicted class\n",
        "print('Predicted Class: %d' % yhat[0])"
      ],
      "metadata": {
        "colab": {
          "base_uri": "https://localhost:8080/"
        },
        "id": "_viZTXQ2VyJ2",
        "outputId": "1355de7a-517d-4977-8fd2-74d39e18e4c2"
      },
      "execution_count": null,
      "outputs": [
        {
          "output_type": "stream",
          "name": "stdout",
          "text": [
            "Mean Accuracy: 0.926 (0.001)\n",
            "Predicted Class: 1\n"
          ]
        },
        {
          "output_type": "stream",
          "name": "stderr",
          "text": [
            "/usr/local/lib/python3.7/dist-packages/sklearn/linear_model/_logistic.py:818: ConvergenceWarning: lbfgs failed to converge (status=1):\n",
            "STOP: TOTAL NO. of ITERATIONS REACHED LIMIT.\n",
            "\n",
            "Increase the number of iterations (max_iter) or scale the data as shown in:\n",
            "    https://scikit-learn.org/stable/modules/preprocessing.html\n",
            "Please also refer to the documentation for alternative solver options:\n",
            "    https://scikit-learn.org/stable/modules/linear_model.html#logistic-regression\n",
            "  extra_warning_msg=_LOGISTIC_SOLVER_CONVERGENCE_MSG,\n"
          ]
        }
      ]
    },
    {
      "cell_type": "markdown",
      "source": [
        "## KNN"
      ],
      "metadata": {
        "id": "Xfzu3nJX_abq"
      }
    },
    {
      "cell_type": "code",
      "source": [
        "from sklearn.neighbors import KNeighborsClassifier\n",
        "\n",
        "\n",
        "\n",
        "# Create a k-NN classifier with 7 neighbors: knn\n",
        "knn = KNeighborsClassifier(n_neighbors=7)\n",
        "\n",
        "# Fit the classifier to the training data\n",
        "knn.fit(X_train, y_train)\n",
        "\n",
        "# Print the accuracy\n",
        "print(knn.score(X_test, y_test))"
      ],
      "metadata": {
        "colab": {
          "base_uri": "https://localhost:8080/"
        },
        "id": "TqHQgJfJ_dCG",
        "outputId": "d5ad95a2-3fe0-43cd-8fde-487addfff1ac"
      },
      "execution_count": null,
      "outputs": [
        {
          "output_type": "stream",
          "name": "stdout",
          "text": [
            "0.9285714285714286\n"
          ]
        }
      ]
    },
    {
      "cell_type": "code",
      "source": [
        "#Comparando el desempeño del modelo con diferentes k-neighbors dese 1 hasta 25\n",
        "neighbors = np.arange(1, 20)\n",
        "train_accuracy = np.empty(len(neighbors))\n",
        "test_accuracy = np.empty(len(neighbors))\n",
        "\n",
        "for i, k in enumerate(neighbors):\n",
        "  knn = KNeighborsClassifier(n_neighbors=k)\n",
        "  knn.fit(X_train, y_train)\n",
        "  train_accuracy[i] = knn.score(X_train, y_train)\n",
        "  test_accuracy[i] = knn.score(X_test, y_test)\n",
        "\n",
        "plt.title('k-NN: Para difrentes n_neighbors')\n",
        "plt.plot(neighbors, test_accuracy, label = 'Testing Accuracy')\n",
        "plt.plot(neighbors, train_accuracy, label = 'Training Accuracy')\n",
        "plt.legend()\n",
        "plt.xlabel('Number of Neighbors')\n",
        "plt.ylabel('Accuracy')\n",
        "plt.show()"
      ],
      "metadata": {
        "colab": {
          "base_uri": "https://localhost:8080/",
          "height": 299
        },
        "id": "nbiYaNFagnMY",
        "outputId": "f135cb35-9de4-4d1e-8d99-21044cc090c7"
      },
      "execution_count": null,
      "outputs": [
        {
          "output_type": "display_data",
          "data": {
            "image/png": "[encoded data removed]",
            "text/plain": [
              "<Figure size 432x288 with 1 Axes>"
            ]
          },
          "metadata": {}
        }
      ]
    },
    {
      "cell_type": "code",
      "source": [
        "#Con ayuda de la gráfica se estableció que n_neighbors óptimo es de 5\n",
        "# Create a k-NN classifier with 5 neighbors: knn\n",
        "knn = KNeighborsClassifier(n_neighbors=5)\n",
        "\n",
        "knn.fit(X_train, y_train)\n",
        "\n",
        "#accuracy\n",
        "print(knn.score(X_test, y_test))"
      ],
      "metadata": {
        "colab": {
          "base_uri": "https://localhost:8080/"
        },
        "id": "0NR3oyaSjSuF",
        "outputId": "5e61161d-d492-427e-eee9-fad97a2713b3"
      },
      "execution_count": null,
      "outputs": [
        {
          "output_type": "stream",
          "name": "stdout",
          "text": [
            "0.9295918367346939\n"
          ]
        }
      ]
    }
  ]
}